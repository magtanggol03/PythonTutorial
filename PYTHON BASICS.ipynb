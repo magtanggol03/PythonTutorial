{
 "cells": [
  {
   "cell_type": "markdown",
   "metadata": {},
   "source": [
    "# PYTHON BASICS"
   ]
  },
  {
   "cell_type": "markdown",
   "metadata": {},
   "source": [
    "This is the Jupyter Notebook IDE, which is the preferred IDE for data science.\n",
    "\n",
    "Pressing <b>Shift+Enter</b> will compile and execute the code."
   ]
  },
  {
   "cell_type": "markdown",
   "metadata": {},
   "source": [
    "## BASIC OPERATIONS"
   ]
  },
  {
   "cell_type": "markdown",
   "metadata": {},
   "source": [
    "<b>1. Print out your name:</b>\n",
    "\n",
    "    print('your name') \n",
    "   "
   ]
  },
  {
   "cell_type": "code",
   "execution_count": null,
   "metadata": {},
   "outputs": [],
   "source": []
  },
  {
   "cell_type": "markdown",
   "metadata": {},
   "source": [
    "<b> 2. Try the following operations: </b>\n",
    "\n",
    "    1 + 2\n",
    "    10 - 2\n",
    "    3 * 3\n",
    "    4 / 2\n",
    "    13 % 3\n",
    "    3 > 2\n",
    "    3 == 2\n",
    "    10 + 2 == 3 * 4\n",
    "    1 <= 1\n",
    "    1 < 1 or 3 > 2\n",
    "    1 < 1 and 3 > 2\n",
    "    7 == 7 and not 4<4\n",
    "    "
   ]
  },
  {
   "cell_type": "code",
   "execution_count": null,
   "metadata": {},
   "outputs": [],
   "source": []
  },
  {
   "cell_type": "markdown",
   "metadata": {},
   "source": [
    "<b> 3. Create and manipulate variables: </b>\n",
    "\n",
    "    x = 10\n",
    "    y = 2*5\n",
    "    x == y\n",
    "    \n",
    "    x, y = 1, 5\n",
    "    x == y \n",
    "    "
   ]
  },
  {
   "cell_type": "code",
   "execution_count": null,
   "metadata": {
    "collapsed": true
   },
   "outputs": [],
   "source": []
  },
  {
   "cell_type": "markdown",
   "metadata": {},
   "source": [
    "## DATA TYPES"
   ]
  },
  {
   "cell_type": "markdown",
   "metadata": {},
   "source": [
    "Before conducting any sort of operations or manipulations, it is important to understand the object type that is being used. Each data type has certain allowable functions/methods and type mismatches can be very annoying."
   ]
  },
  {
   "cell_type": "markdown",
   "metadata": {},
   "source": [
    "<b>1. Numerical Types </b>\n",
    "\n",
    "    Integer -> Whole Numbers\n",
    "    Float -> Decimals\n",
    "    \n",
    "    Important to note especially when doing certain operations. \n",
    "    \n",
    "    >>> 15/4\n",
    "    3.75"
   ]
  },
  {
   "cell_type": "code",
   "execution_count": null,
   "metadata": {
    "collapsed": true
   },
   "outputs": [],
   "source": []
  },
  {
   "cell_type": "markdown",
   "metadata": {},
   "source": [
    "<b>2. String</b>\n",
    "\n",
    "    Non-numerical data type, usually text. \n",
    "    ALWAYS enclosed with quotation marks, either \"\" or ''.\n",
    "    Can also perform operations.\n",
    "    \n",
    "    >>> 'hello' + ' ' + 'world'"
   ]
  },
  {
   "cell_type": "code",
   "execution_count": null,
   "metadata": {
    "collapsed": true
   },
   "outputs": [],
   "source": []
  },
  {
   "cell_type": "markdown",
   "metadata": {},
   "source": [
    "    Can also access a subsection of the string.\n",
    "    \n",
    "    >>> my_string = 'Hello world!'\n",
    "    >>> my_string[0] #Gets first character, note that indexing starts at 0.\n",
    "    'H'\n",
    "    \n",
    "    >>> my_string[1]\n",
    "    'e'\n",
    "   \n",
    "    >>> my_string[-1] #Get the last character of the string\n",
    "    '!'\n",
    "    \n",
    "    >>> my_string[2:4] #Get a substring. Note that second number is non-inclusive.\n",
    "    'll'\n",
    "    \n",
    "    >>> my_string[:3] #Gets a substring from the first character to the third\n",
    "    'Hel'\n",
    "    \n",
    "    >>> my_string[4:] #Gets a substring from the fourth character to the end\n",
    "    'o world!'\n",
    "    \n",
    "    >>> my_string[::2] #Gets every other character\n",
    "    'Hlowrd'\n",
    "    "
   ]
  },
  {
   "cell_type": "code",
   "execution_count": null,
   "metadata": {},
   "outputs": [],
   "source": []
  },
  {
   "cell_type": "markdown",
   "metadata": {},
   "source": [
    "<b>3. List</b>"
   ]
  },
  {
   "cell_type": "markdown",
   "metadata": {},
   "source": [
    "    A way to group certain objects together. Does not necessarily have to be the same types.\n",
    "    Created by using square brackets [].\n",
    "    \n",
    "    >>> my_list = ['Ram', 25, 'De Guzman', 1992]\n",
    "    \n",
    "    Lists are iterable and thus can be indexed similar to strings as well.\n",
    "    \n",
    "    >>> my_list[1]\n",
    "    25\n",
    "    \n",
    "    >>> my_list[:2]\n",
    "    ['Ram', 25]"
   ]
  },
  {
   "cell_type": "code",
   "execution_count": null,
   "metadata": {
    "collapsed": true
   },
   "outputs": [],
   "source": []
  },
  {
   "cell_type": "markdown",
   "metadata": {},
   "source": [
    "    Some useful methods to use with lists.\n",
    "    \n",
    "    >>> my_list.append('Philippines') #Adds an item to a list\n",
    "    >>> my_list.remove('Ram') #Removes the first instance in a list\n",
    "    >>> my_list.insert('MSBA', 2) #Adds a new item at a specific location\n",
    "    >>> len(my_list) #Returns how many items are in a list"
   ]
  },
  {
   "cell_type": "code",
   "execution_count": null,
   "metadata": {
    "collapsed": true
   },
   "outputs": [],
   "source": []
  },
  {
   "cell_type": "markdown",
   "metadata": {},
   "source": [
    "    Can use logical statements easily to check if item is in a list.\n",
    "    \n",
    "    >>>'Ram' in my_list"
   ]
  },
  {
   "cell_type": "code",
   "execution_count": 24,
   "metadata": {},
   "outputs": [
    {
     "name": "stdout",
     "output_type": "stream",
     "text": [
      "\n"
     ]
    }
   ],
   "source": []
  },
  {
   "cell_type": "markdown",
   "metadata": {},
   "source": [
    "<b>4. Tuple </b>"
   ]
  },
  {
   "cell_type": "markdown",
   "metadata": {},
   "source": [
    "    An ordered collection of items created by using parenthesis ().\n",
    "    Similar to lists, but are unalterable after they are created, making them more rigid.\n",
    "    \n",
    "    Useful for managing ordered collections.\n",
    "    \n",
    "    >>> my_tuple = (1, 2)\n",
    "    "
   ]
  },
  {
   "cell_type": "code",
   "execution_count": null,
   "metadata": {},
   "outputs": [],
   "source": []
  },
  {
   "cell_type": "markdown",
   "metadata": {},
   "source": [
    "<b> 5. Sets </b>"
   ]
  },
  {
   "cell_type": "markdown",
   "metadata": {},
   "source": [
    "    Unordered collection of DISTINCT objects. Created by using {} or set().\n",
    "    \n",
    "    >>> my_set = {1, 1, 1, 2, 2, 3, 4, 5, 6, 6, 7, 7}"
   ]
  },
  {
   "cell_type": "code",
   "execution_count": null,
   "metadata": {},
   "outputs": [],
   "source": []
  },
  {
   "cell_type": "markdown",
   "metadata": {},
   "source": [
    "<b> 6. Dictionaries </b>"
   ]
  },
  {
   "cell_type": "markdown",
   "metadata": {},
   "source": [
    "    Unordered data set using key pairs. Each item in a dictionary has a 'key' and an associated 'value'.\n",
    "    Indexed using their keys.\n",
    "    \n",
    "    >>> my_dict = {\"business\": 4121, \"math\": 2061, \"visual arts\": 7321}\n",
    "    >>> my_dict['business']"
   ]
  },
  {
   "cell_type": "code",
   "execution_count": null,
   "metadata": {},
   "outputs": [],
   "source": []
  },
  {
   "cell_type": "markdown",
   "metadata": {},
   "source": [
    "    To update dictionary,\n",
    "        \n",
    "        >>> my_dict[<new key>] = <value>\n",
    "        \n",
    "    Can get list of keys and values by using\n",
    "    \n",
    "        >>> my_dict.keys() and my_dict.values()"
   ]
  },
  {
   "cell_type": "code",
   "execution_count": null,
   "metadata": {
    "collapsed": true
   },
   "outputs": [],
   "source": []
  },
  {
   "cell_type": "markdown",
   "metadata": {},
   "source": [
    "### Converting Data Types\n",
    "\n",
    "To detemine an object type, you can use the type() method.<br>\n",
    "It is possible to 'type cast' a certain object -- meaning converting it to another data type.\n",
    "\n",
    "    x = 1\n",
    "    str(x) -> convert to string\n",
    "    int(x) -> convert back to integer\n",
    "    float(x) -> convert to float\n",
    "    \n",
    "    y = [1, 1, 2, 3, 4, 4, 5]\n",
    "    type(y) -> list\n",
    "    set(y) -> create unique set of values from y\n",
    "    list(y) -> convert back to list\n"
   ]
  },
  {
   "cell_type": "code",
   "execution_count": null,
   "metadata": {
    "collapsed": true
   },
   "outputs": [],
   "source": []
  },
  {
   "cell_type": "markdown",
   "metadata": {},
   "source": [
    "## USER DEFINED FUNCTIONS"
   ]
  },
  {
   "cell_type": "markdown",
   "metadata": {},
   "source": [
    "It is possible to create a function to allow easy repition of certain operations. <br>\n",
    "Uses the <b> def </b> commamnd.\n",
    "\n",
    "    def getSquare (input):\n",
    "        x = input ** 2\n",
    "        return x\n",
    "    \n",
    "Note that variables defined inside the function have a local scope, and thus does not apply outside of the function."
   ]
  },
  {
   "cell_type": "code",
   "execution_count": null,
   "metadata": {},
   "outputs": [],
   "source": []
  },
  {
   "cell_type": "markdown",
   "metadata": {},
   "source": [
    "## LOGICAL FLOW STATEMENTS"
   ]
  },
  {
   "cell_type": "markdown",
   "metadata": {},
   "source": [
    "### If-Then-Else Statements\n",
    "\n",
    "    if <condition> then:\n",
    "        <result>\n",
    "    else:\n",
    "        <alternative result>"
   ]
  },
  {
   "cell_type": "code",
   "execution_count": null,
   "metadata": {},
   "outputs": [],
   "source": []
  },
  {
   "cell_type": "markdown",
   "metadata": {},
   "source": [
    "### While Loop\n",
    "\n",
    "    while <condition is true>:\n",
    "        \n",
    "        <operation to be performed>\n",
    "        \n",
    "Note that very important that the condition you set MUST TERMINATE.<br>\n",
    "A non-terminating condition will lead to an infinite loop and cause your code to crash."
   ]
  },
  {
   "cell_type": "code",
   "execution_count": null,
   "metadata": {
    "collapsed": true
   },
   "outputs": [],
   "source": []
  },
  {
   "cell_type": "markdown",
   "metadata": {},
   "source": [
    "### For Loop\n",
    "\n",
    "    for <var_name> in <iterable object>:\n",
    "        \n",
    "        <operation to be performed for every iteration in the defined object>\n"
   ]
  },
  {
   "cell_type": "code",
   "execution_count": null,
   "metadata": {},
   "outputs": [],
   "source": []
  },
  {
   "cell_type": "markdown",
   "metadata": {},
   "source": [
    "## NUMPY\n",
    "\n",
    "Numpy is a powerful python library used for multi-dimensional array manipulation.\n",
    "\n",
    "    import numpy as np"
   ]
  },
  {
   "cell_type": "code",
   "execution_count": null,
   "metadata": {
    "collapsed": true
   },
   "outputs": [],
   "source": []
  },
  {
   "cell_type": "markdown",
   "metadata": {},
   "source": [
    "The basic data structure of numpy is an <b>array</b>.\n",
    "\n",
    "    >>> np.array([1, 2, 3, 4, 5]) --> a one dimensional array / vector\n",
    "    >>> np.array([[1,2,3],[4,5,6]]) --> a 2-D array\n",
    "    \n",
    "You can do slicing on a numpy array similar to a list, but with two dimensions <b>array[row index, col index]</b>.\n",
    "    \n",
    "    >>> A = np.array([[1,2,3],[4,5,6]])\n",
    "    >>> A[0,0]\n",
    "    \n",
    "        1\n",
    "        \n",
    "    >>> A[1, 1]    \n",
    "    \n",
    "        5\n",
    "           \n",
    "    "
   ]
  },
  {
   "cell_type": "code",
   "execution_count": null,
   "metadata": {
    "collapsed": true
   },
   "outputs": [],
   "source": []
  },
  {
   "cell_type": "markdown",
   "metadata": {},
   "source": [
    "Unlike lists, when using mathematical operations on arrays, it performs <b>component-wise operations</b> - similar to vectors and matrices in mathematics.\n",
    "\n",
    "    >>> A = np.array([1,2,3])\n",
    "    >>> A + 3\n",
    "    \n",
    "        4, 5, 6\n",
    "        \n",
    "    >>> B = np.array([4,5,6])\n",
    "    >>> A + B\n",
    "        \n",
    "        array([5, 7, 9])"
   ]
  },
  {
   "cell_type": "code",
   "execution_count": null,
   "metadata": {},
   "outputs": [],
   "source": []
  },
  {
   "cell_type": "markdown",
   "metadata": {},
   "source": [
    "Attributes of arrays include:\n",
    "\n",
    "    dtype | Types of the elements in an array\n",
    "    ndim  | The number of axes (dimensions) of the array.\n",
    "    shape | A tuple of integers indicating the size in each dimension.\n",
    "    size  | The total number of elements in the array.\n",
    "    \n",
    "    You can get any attribute of a numpy array by calling the attribute: A.ndim <-- note no parenthesis because it is not a method."
   ]
  },
  {
   "cell_type": "code",
   "execution_count": null,
   "metadata": {},
   "outputs": [],
   "source": []
  },
  {
   "cell_type": "markdown",
   "metadata": {},
   "source": [
    "You can also use numpy to create commonly used arrays using the following methods:\n",
    "    \n",
    "    arange()  | An array of evenly spaced values within a given interval (like range()).\n",
    "    linspace()| An array of evenly spaced values in a given interval where the number of elements is specified\n",
    "    eye()     | A 2-D array with ones on the diagonal and zeros elsewhere.\n",
    "    ones()    | A new array of given shape and type, filled with ones.\n",
    "    zeros()   | A new array of given shape and type, filled with zeros.\n",
    "    diag()    | Extract a diagonal or construct a diagonal array.\n"
   ]
  },
  {
   "cell_type": "code",
   "execution_count": null,
   "metadata": {
    "collapsed": true
   },
   "outputs": [],
   "source": []
  },
  {
   "cell_type": "markdown",
   "metadata": {},
   "source": [
    "#### MASKING\n",
    "\n",
    "Masking usually helps in finding a subset of values that meets a certain criteria. For example, \n",
    "\n",
    "    >>> A = np.array([-1, 3, -5, 6, -8])\n",
    "    >>> mask = A>0\n",
    "    >>> mask\n",
    "    \n",
    "        array([False,  True, False,  True, False], dtype=bool)\n",
    "        \n",
    "    >>> A[mask]\n",
    "        \n",
    "        array([3, 6])\n",
    "           "
   ]
  },
  {
   "cell_type": "code",
   "execution_count": null,
   "metadata": {
    "collapsed": true
   },
   "outputs": [],
   "source": []
  },
  {
   "cell_type": "markdown",
   "metadata": {},
   "source": [
    "#### Other Numpy Methods\n",
    "\n",
    "    all()    | True if all elements evaluate to True.\n",
    "    any()    | True if any elements evaluate to True.\n",
    "    argmax() | Index of the maximum value.\n",
    "    argmin() | Index of the minimum value.\n",
    "    argsort()| Indices that would sort the array.\n",
    "    max()    | The maximum element of the array.\n",
    "    mean()   | The average value of the array.\n",
    "    min()    | The minimum element of the array.\n",
    "    sort()   | Return nothing; sort the array in-place.\n",
    "    std()    | The standard deviation of the array.\n",
    "    sum()    | The sum of the elements of the array.\n",
    "    var()    | The variance of the array.\n",
    "    \n",
    "   Follows np.random._\n",
    "    \n",
    "    choice() | Take random samples from a 1-D array.\n",
    "    random() | Uniformly distributed floats over [0, 1).\n",
    "    randint()| Random integers over a half-open interval.\n",
    "    random_integers() | Random integers over a closed interval.\n",
    "    randn()  | Sample from the standard normal distribution.\n",
    "    permutation() | Randomly permute a sequence / generate a random sequence"
   ]
  },
  {
   "cell_type": "code",
   "execution_count": null,
   "metadata": {},
   "outputs": [],
   "source": []
  },
  {
   "cell_type": "markdown",
   "metadata": {},
   "source": [
    "## PLOTTING\n",
    "\n",
    "    from matplotlib import pyplot as plt\n",
    "    import numpy as np\n"
   ]
  },
  {
   "cell_type": "code",
   "execution_count": 1,
   "metadata": {
    "collapsed": true
   },
   "outputs": [],
   "source": []
  },
  {
   "cell_type": "markdown",
   "metadata": {},
   "source": [
    "#### LINE PLOT    \n",
    "    >>> x = np.linspace(-100, 100, 201)\n",
    "    >>> y = x**2\n",
    "\n",
    "    >>>plt.plot(x, y)\n",
    "    >>>plt.show()"
   ]
  },
  {
   "cell_type": "code",
   "execution_count": null,
   "metadata": {},
   "outputs": [],
   "source": []
  },
  {
   "cell_type": "markdown",
   "metadata": {},
   "source": [
    "#### SCATTER PLOT\n",
    "\n",
    "    >>> x = np.random.normal(scale = 1, loc = 1, size = 1000)\n",
    "    >>> y = np.random.normal(scale = 2, loc = 10, size = 1000)\n",
    "\n",
    "    >>> plt.scatter(x, y, col = 'red')\n",
    "    >>> plt.title(\"My Scatter Plot\")\n",
    "    >>> plt.ylabel('y_label')\n",
    "    >>> plt.xlabel('x_label')\n",
    "    >>> plt.show()"
   ]
  },
  {
   "cell_type": "code",
   "execution_count": null,
   "metadata": {
    "collapsed": true
   },
   "outputs": [],
   "source": []
  },
  {
   "cell_type": "markdown",
   "metadata": {},
   "source": [
    "#### HISTOGRAM\n",
    "\n",
    "    >>> plt.hist(x, bins = 50, color = '#3cb371')\n",
    "    >>> plt.title('Histogram')\n",
    "    >>> plt.show()"
   ]
  },
  {
   "cell_type": "code",
   "execution_count": null,
   "metadata": {
    "collapsed": true
   },
   "outputs": [],
   "source": []
  },
  {
   "cell_type": "markdown",
   "metadata": {},
   "source": [
    "#### BOXPLOT\n",
    "\n",
    "    >>> plt.boxplot(np.hstack((x.reshape(-1,1),y.reshape(-1,1))))\n",
    "    >>> plt.title('Boxplot of X & Y')\n",
    "    >>> plt.xticks(np.arange(1,3), ['N(1, 1)','N(10,2)'])\n",
    "    >>> plt.show()"
   ]
  },
  {
   "cell_type": "code",
   "execution_count": null,
   "metadata": {
    "collapsed": true
   },
   "outputs": [],
   "source": []
  },
  {
   "cell_type": "markdown",
   "metadata": {},
   "source": [
    "#### CORRELATION PLOT\n",
    "\n",
    "    >>> import seaborn as sns\n",
    "    \n",
    "    >>> z = x+y/2\n",
    "    >>> cor = np.corrcoef(np.matrix([x, y, z]))\n",
    "    >>> sns.heatmap(cor)\n",
    "\n",
    "    >>> plt.title('Heatmap')\n",
    "    >>> plt.xticks(np.arange(3)+0.5, ['x','y','x+y/2'])\n",
    "    >>> plt.yticks(np.arange(3)+0.5, ['x','y','x+y/2'])\n",
    "    >>> plt.show()\n"
   ]
  },
  {
   "cell_type": "code",
   "execution_count": null,
   "metadata": {},
   "outputs": [],
   "source": []
  },
  {
   "cell_type": "markdown",
   "metadata": {},
   "source": [
    "#### USING SUBPLOTS\n",
    "\n",
    "    >>> x = np.linspace(0, 2000, 2001)\n",
    "    >>> z = np.random.standard_t(1, len(x))\n",
    "    >>> y = np.random.normal(0, 1, len(x))\n",
    "\n",
    "    UPPER RIGHT PLOT - TIME SERIES PLOT FOR Y & Z\n",
    "    >>> plt.subplot(221)\n",
    "    >>> plt.plot(x, z, '#CB4335', label = 't(1)')\n",
    "    >>> plt.plot(x, y, '#148F77', label = 'N(0,1)')\n",
    "    >>> plt.title('Time Series Plot')\n",
    "    >>> plt.legend(loc = (1,1.25), fontsize = 10)\n",
    "\n",
    "    UPPER LEFT PLOT - TIME SERIES PLOT FOR Y & Z\n",
    "    >>> plt.subplot(222)\n",
    "    >>> comb = np.hstack((y.reshape(-1, 1), z.reshape(-1,1)))\n",
    "    >>> plt.boxplot(comb)\n",
    "    >>> plt.xticks(np.arange(1,3), ['N(0,1)', 't(1)'])\n",
    "    >>> plt.title('Boxplots')\n",
    "\n",
    "    #LOWER LEFT PLOT - HISTOGRAM FOR Y\n",
    "    >>> plt.subplot(223)\n",
    "    >>> plt.hist(y, color = '#148F77')\n",
    "    >>> plt.title('Distribution of N(0,1)')\n",
    "\n",
    "    #LOWER RIGHT PLOT - HISTOGRAM FOR Z\n",
    "    >>> plt.subplot(224)\n",
    "    >>> plt.hist(z, color = '#CB4335', bins = 20)\n",
    "    >>> plt.title('Distribution of t(1)')\n",
    "\n",
    "    >>> plt.suptitle('Comparison of N(0,1), t(1)', x= 0.53,y = 1.2, fontsize = 15)\n",
    "\n",
    "    >>> plt.tight_layout()\n",
    "    >>> plt.show()"
   ]
  },
  {
   "cell_type": "code",
   "execution_count": null,
   "metadata": {
    "collapsed": true
   },
   "outputs": [],
   "source": []
  },
  {
   "cell_type": "markdown",
   "metadata": {},
   "source": [
    "## PANDAS\n",
    "\n",
    "    import pandas as pd\n",
    "    \n",
    "Pandas is the most popular and widely used dataframe library in python. Especially useful for data analysis and manipulation. \n",
    "\n",
    "#### SERIES\n",
    "\n",
    "The most basic data structure of pandas is a series which is similar to an array -- except it can hold different types of elements and are combined with an index.\n",
    "\n",
    "    >>> s1 = pd.Series(np.arange(9, -1, -1))\n",
    "    >>> s1.values\n",
    "    >>> s1.index\n",
    "    \n",
    "We can customize the index of a series as desired.\n",
    "\n",
    "    >>> s1 = pd.Series(np.arange(9, -1, -1), index = ['a','b','c','d','e','f','g','h','i','j'])\n",
    "    \n",
    "Or use dictionaries to create a series.\n",
    "\n",
    "    >>> ages = {'Ram': 31, 'Rom': 28, 'Rem': 34, 'Rum': 26}\n",
    "    >>> pd.Series(ages)"
   ]
  },
  {
   "cell_type": "code",
   "execution_count": null,
   "metadata": {
    "collapsed": true
   },
   "outputs": [],
   "source": []
  },
  {
   "cell_type": "markdown",
   "metadata": {},
   "source": [
    "\n",
    "#### DATAFRAME\n",
    "\n",
    "A DataFrame is a multi-dimensional series, with a rows and columns. \n",
    "\n",
    "We can create dataframes using multiple series objects:\n",
    "\n",
    "    >>> ages = {'Ram': 31, 'Rom': 28, 'Rem': 34, 'Rum': 26}\n",
    "    >>> grades = {'Ram': 'B', 'Rom': 'A', 'Rem': 'C+', 'Rum': 'F'}\n",
    "    >>> pd.DataFrame({'Grades':grades, 'Ages': ages})"
   ]
  },
  {
   "cell_type": "code",
   "execution_count": null,
   "metadata": {},
   "outputs": [],
   "source": []
  },
  {
   "cell_type": "markdown",
   "metadata": {},
   "source": [
    "Most of the time, we will be importing our data from an external file -- like a csv.\n",
    "\n",
    "    >>> df_titanic = pd.read_csv('Titanic/Titanic.csv')\n",
    "    >>> df_titanic.head()"
   ]
  },
  {
   "cell_type": "code",
   "execution_count": null,
   "metadata": {
    "collapsed": true
   },
   "outputs": [],
   "source": []
  },
  {
   "cell_type": "markdown",
   "metadata": {},
   "source": [
    "To get a quick view of our data, we can use the following method.\n",
    "\n",
    "    >>> df_titanic.dtypes #Get data types per column\n",
    "    >>> df_titanic.describe() #Get an idea of distribution of values"
   ]
  },
  {
   "cell_type": "code",
   "execution_count": null,
   "metadata": {},
   "outputs": [],
   "source": []
  },
  {
   "cell_type": "markdown",
   "metadata": {},
   "source": [
    "We can check for missing values by using the following method\n",
    "\n",
    "    >>> null_vals = df_titanic.isnull()\n",
    "    >>> null_vals.sum(axis = 0)\n",
    "    \n",
    "Note that the is.null() method transforms the entire data set into true or false, with true representing the null values. We can then sum that per column to get the number of null values per column."
   ]
  },
  {
   "cell_type": "code",
   "execution_count": null,
   "metadata": {},
   "outputs": [],
   "source": []
  },
  {
   "cell_type": "markdown",
   "metadata": {},
   "source": [
    "To deal with missing values, we can opt to drop the entire row completely. \n",
    "\n",
    "    >>> df_titanic.dropna()\n",
    "    \n",
    "Note however that this is not always the best option as deleting data can remove valuable information or may represent 0's instead. If we want to replace the null values, we can use,\n",
    "\n",
    "    >>> df_titanic.fillna(0)\n",
    "    \n",
    "As an exercise, try to fill the missing values of AGE with the mean age. For cabin, there are too many missing values with no distinguishable way to reconstruct them. As such, we can opt to just drop the column completely as follows:\n",
    "\n",
    "    >>> df_titanic.drop('Cabin', axis =1)"
   ]
  },
  {
   "cell_type": "code",
   "execution_count": null,
   "metadata": {},
   "outputs": [],
   "source": []
  },
  {
   "cell_type": "markdown",
   "metadata": {},
   "source": [
    "Traditional slicing does not work with a DataFrame outright. To get subsets of a DataFrame, queries similar to SQL queries are used to filter and sort through data. \n",
    "\n",
    "    Return only the Survived column.\n",
    "    >>> df_titanic['Survived']\n",
    "    >>> df_titanic.Survived\n",
    "    \n",
    "    Return the passengers who survived\n",
    "    >>> df_titanic[df_titanic.Survived == 1]\n",
    "    \n",
    "    Return the passengers who survived and are male\n",
    "    >>> df_titanic[(df_titanic.Survived ==1) & (df_titanic.Sex == 'male')]\n",
    "    \n",
    "    Return the passengers who survived and are male, but only return the Names and Class\n",
    "    >>> df_titanic[(df_titanic.Survived ==1) & (df_titanic.Sex == 'male')][['Name', 'Pclass']]"
   ]
  },
  {
   "cell_type": "code",
   "execution_count": null,
   "metadata": {},
   "outputs": [],
   "source": []
  },
  {
   "cell_type": "markdown",
   "metadata": {},
   "source": [
    "To get a subset using traditional slicing, we can use the .iloc method. \n",
    "\n",
    "    >>> df_titanic.iloc[:,2]"
   ]
  },
  {
   "cell_type": "code",
   "execution_count": null,
   "metadata": {},
   "outputs": [],
   "source": []
  },
  {
   "cell_type": "markdown",
   "metadata": {},
   "source": [
    "In cleaning data, sometimes we want to apply some sort of transformation to an entire column - maybe to change the values to a more approriate one. pd.DataFrame.apply() allows us to do this.\n",
    "\n",
    "    >>> def convertGen(x):\n",
    "    >>>     if x == 'male':\n",
    "    >>>         return(1)\n",
    "    >>>     else:\n",
    "    >>>         return(0)\n",
    "\n",
    "    >>> df_titanic['Sex'].apply(convertGen)\n",
    "    \n",
    "As an exercise, try to write a function that converts Name to Titles and apply it to the dataframe."
   ]
  },
  {
   "cell_type": "code",
   "execution_count": null,
   "metadata": {},
   "outputs": [],
   "source": []
  },
  {
   "cell_type": "markdown",
   "metadata": {},
   "source": [
    "#### PLOTTING WITH PANDAS\n",
    "\n",
    "While you can use the traditional methods to plot, pandas have a quick way of plotting as well.\n",
    "\n",
    "    >>> df_titanic.hist('Age')\n",
    "    >>> plt.show()\n",
    "\n",
    "    >>> df_titanic.plot('Age', 'Fare', kind = 'scatter')\n",
    "    >>> plt.show()"
   ]
  },
  {
   "cell_type": "markdown",
   "metadata": {},
   "source": [
    "Before plotting, we sometimes have to do some transformation to our data in order for it to make sense.\n",
    "For example, to compare the number of survivals, we can use this:\n",
    "    \n",
    "    >>> SurvCount = df_titanic.Survived.value_counts()\n",
    "    >>> SurvCount.plot(kind='bar')\n",
    "    >>> plt.show()\n",
    "    \n",
    ".value_counts() is useful in general especially if we want to find the frequency of each unique value in a column."
   ]
  },
  {
   "cell_type": "code",
   "execution_count": null,
   "metadata": {},
   "outputs": [],
   "source": []
  },
  {
   "cell_type": "markdown",
   "metadata": {},
   "source": [
    "We can also use pandas to aggregate some of our data of interest. \n",
    "\n",
    "    >>> SurvSex = pd.crosstab(df_titanic.Sex, df_titanic.Survived)\n",
    "    >>> SurvSex.plot(bar, stacked = True)\n",
    "    >>> plt.show()"
   ]
  },
  {
   "cell_type": "code",
   "execution_count": null,
   "metadata": {},
   "outputs": [],
   "source": []
  },
  {
   "cell_type": "markdown",
   "metadata": {},
   "source": [
    "We can also group continuous data into categorical bins by using the .cut method.\n",
    "\n",
    "    >>> Age_cat = pd.cut(df_titanic.Age.dropna(), 3)\n",
    "    >>> Age_cat.value_counts().plot(kind='bar')\n",
    "    >>> plt.show()\n",
    "    \n",
    "We can also specify the cuts that we want.\n",
    "\n",
    "    >>> Age_cat = pd.cut(df_titanic.Age.dropna(), [0, 8, 20, 40, 60])\n",
    "    >>> Age_cat.value_counts().plot(kind='bar')\n",
    "    >>> plt.show()"
   ]
  },
  {
   "cell_type": "code",
   "execution_count": null,
   "metadata": {},
   "outputs": [],
   "source": []
  },
  {
   "cell_type": "code",
   "execution_count": null,
   "metadata": {
    "collapsed": true
   },
   "outputs": [],
   "source": []
  }
 ],
 "metadata": {
  "anaconda-cloud": {},
  "kernelspec": {
   "display_name": "Python [conda root]",
   "language": "python",
   "name": "conda-root-py"
  },
  "language_info": {
   "codemirror_mode": {
    "name": "ipython",
    "version": 3
   },
   "file_extension": ".py",
   "mimetype": "text/x-python",
   "name": "python",
   "nbconvert_exporter": "python",
   "pygments_lexer": "ipython3",
   "version": "3.5.2"
  }
 },
 "nbformat": 4,
 "nbformat_minor": 2
}
